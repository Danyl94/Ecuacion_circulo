{
 "cells": [
  {
   "cell_type": "markdown",
   "id": "f3da54d5",
   "metadata": {},
   "source": [
    "<h2><font color=\"#004D7F\" size=6>Prediciones</font></h2>\n",
    "\n",
    "\n",
    "\n",
    "<br><br>\n",
    "<div style=\"text-align: right\">\n",
    "<font color=\"#004D7F\" size=3>Danyela Luengas</font><br>\n",
    "<font color=\"#004D7F\" size=3>Machine Learning</font><br>"
   ]
  },
  {
   "cell_type": "code",
   "execution_count": 2,
   "id": "c0f28b88",
   "metadata": {},
   "outputs": [],
   "source": [
    "import pandas as pd\n",
    "import numpy as np\n",
    "import matplotlib.pyplot as plt"
   ]
  },
  {
   "cell_type": "code",
   "execution_count": 3,
   "id": "fb114bd7",
   "metadata": {},
   "outputs": [
    {
     "data": {
      "text/plain": [
       "(100,)"
      ]
     },
     "execution_count": 3,
     "metadata": {},
     "output_type": "execute_result"
    }
   ],
   "source": [
    "def circulo(a,b):\n",
    "    r=np.sqrt(a**2+b**2)\n",
    "    return r\n",
    "a=0\n",
    "b=1\n",
    "c=0\n",
    "d=1\n",
    "n=100\n",
    "X=np.random.rand(n)*(b-a)+a \n",
    "Y=np.random.rand(n)*(d-c)+c\n",
    "r=circulo(X, Y)\n",
    "[X,Y,r]\n",
    "df=pd.DataFrame(data={'X' :X, 'Y':Y, 'r':r})\n",
    "dataset= df.values\n",
    "XX=dataset[:, 0:2]\n",
    "yy=dataset[:,2]\n",
    "yy.shape\n",
    "\n"
   ]
  },
  {
   "cell_type": "code",
   "execution_count": null,
   "id": "4f1ece13",
   "metadata": {},
   "outputs": [],
   "source": [
    "\n",
    "\n"
   ]
  },
  {
   "cell_type": "code",
   "execution_count": 4,
   "id": "32eb5fad",
   "metadata": {},
   "outputs": [
    {
     "name": "stderr",
     "output_type": "stream",
     "text": [
      "C:\\Users\\daalu\\anaconda3\\lib\\site-packages\\sklearn\\neural_network\\_multilayer_perceptron.py:611: UserWarning: Got `batch_size` less than 1 or larger than sample size. It is going to be clipped\n",
      "  warnings.warn(\n",
      "C:\\Users\\daalu\\anaconda3\\lib\\site-packages\\sklearn\\neural_network\\_multilayer_perceptron.py:692: ConvergenceWarning: Stochastic Optimizer: Maximum iterations (200) reached and the optimization hasn't converged yet.\n",
      "  warnings.warn(\n"
     ]
    },
    {
     "name": "stdout",
     "output_type": "stream",
     "text": [
      "MSE:,1.227%\n"
     ]
    },
    {
     "data": {
      "text/plain": [
       "array([0.09808184, 0.53584987, 0.71422703, 0.90101224, 0.25846022,\n",
       "       0.67830621, 0.71298628, 0.77686055, 0.07608301, 0.82616904,\n",
       "       0.82209943, 0.62217915, 0.04292784, 0.96165657, 0.60776751,\n",
       "       0.26831912, 0.55146052, 0.23512667, 0.69584307, 0.31535404,\n",
       "       0.19246566, 0.2753006 , 0.08874301, 0.10896154, 0.93239921,\n",
       "       0.52782045, 0.49698955, 0.79997003, 0.15163919, 0.31752182,\n",
       "       0.19503346, 0.45797719, 0.59936442])"
      ]
     },
     "execution_count": 4,
     "metadata": {},
     "output_type": "execute_result"
    },
    {
     "data": {
      "image/png": "[encoded data removed]",
      "text/plain": [
       "<Figure size 720x720 with 1 Axes>"
      ]
     },
     "metadata": {
      "needs_background": "light"
     },
     "output_type": "display_data"
    }
   ],
   "source": [
    "from sklearn.model_selection import train_test_split\n",
    "\n",
    "\n",
    "test_size=0.33\n",
    "seed = 7\n",
    "\n",
    "X_train, X_test, y_train,  y_test = train_test_split(XX, yy, \n",
    "            test_size=test_size,  random_state=seed, shuffle=True)\n",
    "X_train.shape\n",
    "#Definir algoritmo de \n",
    "from sklearn.neural_network import MLPRegressor\n",
    "\n",
    "import matplotlib.pyplot as plt \n",
    "import seaborn as sns \n",
    "from sklearn.metrics import mean_squared_error\n",
    "\n",
    "seed=7\n",
    "model= MLPRegressor(hidden_layer_sizes=[10], activation='relu',  solver='adam', max_iter=200, random_state=seed,   batch_size=128, validation_fraction=0.1)\n",
    "model.fit(X_train, y_train)\n",
    "\n",
    "prediction= model.predict(X_test)\n",
    "prediction\n",
    "result=pd.DataFrame(data={'X' :X_test[:,0],'Y' :X_test[:,1], 'R':y_test, 'Predict': prediction})\n",
    "\n",
    "result\n",
    "\n",
    "mse=mean_squared_error(y_test, prediction)\n",
    "print(f'MSE:,{mse*100.0:,.3f}%')\n",
    "\n",
    "plt.figure(figsize=(10,10))\n",
    "sns.scatterplot(data=result, x='R', y='Predict')\n",
    "plt.xlim(0,1)\n",
    "plt.ylim(0,1)\n",
    "X_test[:,0]"
   ]
  },
  {
   "cell_type": "code",
   "execution_count": 5,
   "id": "f6f81df2",
   "metadata": {},
   "outputs": [
    {
     "data": {
      "text/plain": [
       "0.8242615134024988"
      ]
     },
     "execution_count": 5,
     "metadata": {},
     "output_type": "execute_result"
    }
   ],
   "source": [
    "score = model.score(X_train, y_train)\n",
    "score"
   ]
  },
  {
   "cell_type": "code",
   "execution_count": 6,
   "id": "4c36cd29",
   "metadata": {},
   "outputs": [
    {
     "name": "stdout",
     "output_type": "stream",
     "text": [
      "0.0\n",
      "0.0\n"
     ]
    }
   ],
   "source": [
    "import time\n",
    "\n",
    "start_time=time.time()\n",
    "model.predict(X_test)\n",
    "print(time.time()-start_time)\n",
    "start_time=time.time()\n",
    "circulo(X_test[:,0],X_test[:,1])\n",
    "print(time.time()-start_time)"
   ]
  },
  {
   "cell_type": "code",
   "execution_count": 7,
   "id": "9ceef43e",
   "metadata": {
    "scrolled": true
   },
   "outputs": [
    {
     "name": "stdout",
     "output_type": "stream",
     "text": [
      "2.9.1\n"
     ]
    }
   ],
   "source": [
    "import pathlib\n",
    "\n",
    "import matplotlib.pyplot as plt\n",
    "import pandas as pd\n",
    "import seaborn as sns\n",
    "\n",
    "import tensorflow as tf\n",
    "from keras.models import Sequential\n",
    "from keras.layers import Dense\n",
    "\n",
    "from tensorflow import keras\n",
    "from tensorflow.keras import layers\n",
    "\n",
    "print(tf.__version__)\n",
    "\n"
   ]
  },
  {
   "cell_type": "code",
   "execution_count": 8,
   "id": "780f2475",
   "metadata": {},
   "outputs": [
    {
     "data": {
      "text/plain": [
       "(67, 2)"
      ]
     },
     "execution_count": 8,
     "metadata": {},
     "output_type": "execute_result"
    }
   ],
   "source": [
    "from sklearn.model_selection import train_test_split\n",
    "\n",
    "\n",
    "test_size=0.33\n",
    "seed = 7\n",
    "\n",
    "X_train, X_test, y_train,  y_test = train_test_split(XX, yy, \n",
    "            test_size=test_size,  random_state=seed)\n",
    "X_train.shape"
   ]
  },
  {
   "cell_type": "code",
   "execution_count": 9,
   "id": "8630478d",
   "metadata": {},
   "outputs": [],
   "source": [
    "def build_model():\n",
    "    model = keras.Sequential([\n",
    "        layers.Dense(64, activation='relu', input_shape=(2,)),\n",
    "        layers.Dense(64, activation='relu'),\n",
    "        layers.Dense(1)\n",
    "    ])\n",
    "    optimizer = tf.keras.optimizers.RMSprop(0.001)\n",
    "    model.compile(loss='mse', \n",
    "                  optimizer=optimizer,\n",
    "                  metrics=['mae', 'mse'])\n",
    "    return model\n",
    "\n"
   ]
  },
  {
   "cell_type": "code",
   "execution_count": 10,
   "id": "1664347d",
   "metadata": {},
   "outputs": [
    {
     "name": "stdout",
     "output_type": "stream",
     "text": [
      "Model: \"sequential\"\n",
      "_________________________________________________________________\n",
      " Layer (type)                Output Shape              Param #   \n",
      "=================================================================\n",
      " dense (Dense)               (None, 64)                192       \n",
      "                                                                 \n",
      " dense_1 (Dense)             (None, 64)                4160      \n",
      "                                                                 \n",
      " dense_2 (Dense)             (None, 1)                 65        \n",
      "                                                                 \n",
      "=================================================================\n",
      "Total params: 4,417\n",
      "Trainable params: 4,417\n",
      "Non-trainable params: 0\n",
      "_________________________________________________________________\n"
     ]
    }
   ],
   "source": [
    "model = build_model()\n",
    "model.summary()"
   ]
  },
  {
   "cell_type": "code",
   "execution_count": null,
   "id": "f91ecb9d",
   "metadata": {},
   "outputs": [],
   "source": []
  },
  {
   "cell_type": "code",
   "execution_count": 11,
   "id": "c3103e0e",
   "metadata": {},
   "outputs": [],
   "source": [
    "# Display training progress by printing a single dot for each completed epoch\n",
    "class PrintDot(keras.callbacks.Callback):\n",
    "    def on_epoch_end(self, epoch, logs):\n",
    "        if epoch % 100 == 0: print('')\n",
    "        print('.', end='')\n",
    "    \n",
    "    \n",
    "\n"
   ]
  },
  {
   "cell_type": "code",
   "execution_count": 12,
   "id": "d30ece20",
   "metadata": {},
   "outputs": [
    {
     "name": "stdout",
     "output_type": "stream",
     "text": [
      "Epoch 1/100\n",
      "1/3 [=========>....................] - ETA: 2s - loss: 0.6954 - mae: 0.7583 - mse: 0.6954\n",
      "3/3 [==============================] - 1s 4ms/step - loss: 0.6257 - mae: 0.7301 - mse: 0.6257\n",
      "Epoch 2/100\n",
      "3/3 [==============================] - 0s 0s/step - loss: 0.3923 - mae: 0.5735 - mse: 0.3923\n",
      "Epoch 3/100\n",
      "3/3 [==============================] - 0s 2ms/step - loss: 0.2439 - mae: 0.4457 - mse: 0.2439\n",
      "Epoch 4/100\n",
      "3/3 [==============================] - 0s 2ms/step - loss: 0.1554 - mae: 0.3486 - mse: 0.1554\n",
      "Epoch 5/100\n",
      "3/3 [==============================] - 0s 9ms/step - loss: 0.0991 - mae: 0.2740 - mse: 0.0991\n",
      "Epoch 6/100\n",
      "3/3 [==============================] - 0s 6ms/step - loss: 0.0574 - mae: 0.2051 - mse: 0.0574\n",
      "Epoch 7/100\n",
      "3/3 [==============================] - 0s 6ms/step - loss: 0.0285 - mae: 0.1430 - mse: 0.0285\n",
      "Epoch 8/100\n",
      "3/3 [==============================] - 0s 2ms/step - loss: 0.0171 - mae: 0.1120 - mse: 0.0171\n",
      "Epoch 9/100\n",
      "3/3 [==============================] - 0s 1ms/step - loss: 0.0102 - mae: 0.0867 - mse: 0.0102\n",
      "Epoch 10/100\n",
      "3/3 [==============================] - 0s 8ms/step - loss: 0.0073 - mae: 0.0744 - mse: 0.0073\n",
      "Epoch 11/100\n",
      "3/3 [==============================] - 0s 0s/step - loss: 0.0062 - mae: 0.0665 - mse: 0.0062\n",
      "Epoch 12/100\n",
      "3/3 [==============================] - 0s 2ms/step - loss: 0.0059 - mae: 0.0644 - mse: 0.0059\n",
      "Epoch 13/100\n",
      "3/3 [==============================] - 0s 3ms/step - loss: 0.0055 - mae: 0.0625 - mse: 0.0055\n",
      "Epoch 14/100\n",
      "3/3 [==============================] - 0s 0s/step - loss: 0.0051 - mae: 0.0589 - mse: 0.0051\n",
      "Epoch 15/100\n",
      "3/3 [==============================] - 0s 2ms/step - loss: 0.0049 - mae: 0.0578 - mse: 0.0049\n",
      "Epoch 16/100\n",
      "3/3 [==============================] - 0s 501us/step - loss: 0.0049 - mae: 0.0604 - mse: 0.0049\n",
      "Epoch 17/100\n",
      "3/3 [==============================] - 0s 8ms/step - loss: 0.0042 - mae: 0.0527 - mse: 0.0042\n",
      "Epoch 18/100\n",
      "3/3 [==============================] - 0s 253us/step - loss: 0.0040 - mae: 0.0508 - mse: 0.0040\n",
      "Epoch 19/100\n",
      "3/3 [==============================] - 0s 2ms/step - loss: 0.0037 - mae: 0.0517 - mse: 0.0037\n",
      "Epoch 20/100\n",
      "3/3 [==============================] - 0s 1ms/step - loss: 0.0032 - mae: 0.0464 - mse: 0.0032\n",
      "Epoch 21/100\n",
      "3/3 [==============================] - 0s 7ms/step - loss: 0.0030 - mae: 0.0448 - mse: 0.0030\n",
      "Epoch 22/100\n",
      "3/3 [==============================] - 0s 0s/step - loss: 0.0037 - mae: 0.0511 - mse: 0.0037\n",
      "Epoch 23/100\n",
      "3/3 [==============================] - 0s 0s/step - loss: 0.0021 - mae: 0.0381 - mse: 0.0021\n",
      "Epoch 24/100\n",
      "3/3 [==============================] - 0s 2ms/step - loss: 0.0019 - mae: 0.0365 - mse: 0.0019\n",
      "Epoch 25/100\n",
      "3/3 [==============================] - 0s 3ms/step - loss: 0.0023 - mae: 0.0410 - mse: 0.0023\n",
      "Epoch 26/100\n",
      "3/3 [==============================] - 0s 7ms/step - loss: 0.0014 - mae: 0.0311 - mse: 0.0014\n",
      "Epoch 27/100\n",
      "3/3 [==============================] - 0s 0s/step - loss: 0.0023 - mae: 0.0418 - mse: 0.0023\n",
      "Epoch 28/100\n",
      "3/3 [==============================] - 0s 0s/step - loss: 0.0011 - mae: 0.0264 - mse: 0.0011     \n",
      "Epoch 29/100\n",
      "3/3 [==============================] - 0s 9ms/step - loss: 8.5413e-04 - mae: 0.0230 - mse: 8.5413e-04\n",
      "Epoch 30/100\n",
      "3/3 [==============================] - 0s 7ms/step - loss: 6.9568e-04 - mae: 0.0208 - mse: 6.9568e-04\n",
      "Epoch 31/100\n",
      "3/3 [==============================] - 0s 5ms/step - loss: 8.3541e-04 - mae: 0.0229 - mse: 8.3541e-04\n",
      "Epoch 32/100\n",
      "3/3 [==============================] - 0s 500us/step - loss: 9.8985e-04 - mae: 0.0263 - mse: 9.8985e-04\n",
      "Epoch 33/100\n",
      "3/3 [==============================] - 0s 8ms/step - loss: 9.7305e-04 - mae: 0.0267 - mse: 9.7305e-04\n",
      "Epoch 34/100\n",
      "3/3 [==============================] - 0s 0s/step - loss: 4.5248e-04 - mae: 0.0164 - mse: 4.5248e-04\n",
      "Epoch 35/100\n",
      "3/3 [==============================] - 0s 2ms/step - loss: 2.7309e-04 - mae: 0.0127 - mse: 2.7309e-04\n",
      "Epoch 36/100\n",
      "3/3 [==============================] - 0s 2ms/step - loss: 2.9738e-04 - mae: 0.0129 - mse: 2.9738e-04\n",
      "Epoch 37/100\n",
      "3/3 [==============================] - 0s 6ms/step - loss: 0.0010 - mae: 0.0271 - mse: 0.0010    \n",
      "Epoch 38/100\n",
      "3/3 [==============================] - 0s 0s/step - loss: 5.5687e-04 - mae: 0.0204 - mse: 5.5687e-04\n",
      "Epoch 39/100\n",
      "3/3 [==============================] - 0s 0s/step - loss: 5.2895e-04 - mae: 0.0193 - mse: 5.2895e-04\n",
      "Epoch 40/100\n",
      "3/3 [==============================] - 0s 5ms/step - loss: 8.8273e-04 - mae: 0.0267 - mse: 8.8273e-04\n",
      "Epoch 41/100\n",
      "3/3 [==============================] - 0s 2ms/step - loss: 5.2096e-04 - mae: 0.0198 - mse: 5.2096e-04\n",
      "Epoch 42/100\n",
      "3/3 [==============================] - 0s 6ms/step - loss: 3.7420e-04 - mae: 0.0168 - mse: 3.7420e-04\n",
      "Epoch 43/100\n",
      "3/3 [==============================] - 0s 0s/step - loss: 1.2355e-04 - mae: 0.0082 - mse: 1.2355e-04\n",
      "Epoch 44/100\n",
      "3/3 [==============================] - 0s 0s/step - loss: 4.0879e-04 - mae: 0.0185 - mse: 4.0879e-04\n",
      "Epoch 45/100\n",
      "3/3 [==============================] - 0s 2ms/step - loss: 0.0012 - mae: 0.0315 - mse: 0.0012\n",
      "Epoch 46/100\n",
      "3/3 [==============================] - 0s 0s/step - loss: 1.3533e-04 - mae: 0.0084 - mse: 1.3533e-04\n",
      "Epoch 47/100\n",
      "3/3 [==============================] - 0s 0s/step - loss: 7.4646e-05 - mae: 0.0067 - mse: 7.4646e-05\n",
      "Epoch 48/100\n",
      "3/3 [==============================] - 0s 2ms/step - loss: 6.4295e-04 - mae: 0.0234 - mse: 6.4295e-04\n",
      "Epoch 49/100\n",
      "3/3 [==============================] - 0s 7ms/step - loss: 2.5369e-04 - mae: 0.0135 - mse: 2.5369e-04\n",
      "Epoch 50/100\n",
      "3/3 [==============================] - 0s 0s/step - loss: 5.8485e-05 - mae: 0.0060 - mse: 5.8485e-05\n",
      "Epoch 51/100\n",
      "3/3 [==============================] - 0s 0s/step - loss: 4.8739e-05 - mae: 0.0053 - mse: 4.8739e-05\n",
      "Epoch 52/100\n",
      "3/3 [==============================] - 0s 3ms/step - loss: 6.4263e-05 - mae: 0.0057 - mse: 6.4263e-05\n",
      "Epoch 53/100\n",
      "3/3 [==============================] - 0s 2ms/step - loss: 0.0012 - mae: 0.0315 - mse: 0.0012    \n",
      "Epoch 54/100\n",
      "3/3 [==============================] - 0s 5ms/step - loss: 4.0085e-04 - mae: 0.0175 - mse: 4.0085e-04\n",
      "Epoch 55/100\n",
      "3/3 [==============================] - 0s 3ms/step - loss: 4.1483e-05 - mae: 0.0049 - mse: 4.1483e-05\n",
      "Epoch 56/100\n",
      "3/3 [==============================] - 0s 0s/step - loss: 8.3949e-05 - mae: 0.0073 - mse: 8.3949e-05\n",
      "Epoch 57/100\n",
      "3/3 [==============================] - 0s 2ms/step - loss: 4.4350e-04 - mae: 0.0192 - mse: 4.4350e-04\n",
      "Epoch 58/100\n",
      "3/3 [==============================] - 0s 7ms/step - loss: 0.0010 - mae: 0.0280 - mse: 0.0010\n",
      "Epoch 59/100\n",
      "3/3 [==============================] - 0s 0s/step - loss: 3.1418e-04 - mae: 0.0154 - mse: 3.1418e-04\n",
      "Epoch 60/100\n",
      "3/3 [==============================] - 0s 0s/step - loss: 2.4739e-04 - mae: 0.0136 - mse: 2.4739e-04\n",
      "Epoch 61/100\n",
      "3/3 [==============================] - 0s 1ms/step - loss: 8.3489e-05 - mae: 0.0079 - mse: 8.3489e-05\n",
      "Epoch 62/100\n",
      "3/3 [==============================] - 0s 1ms/step - loss: 6.9711e-05 - mae: 0.0069 - mse: 6.9711e-05\n",
      "Epoch 63/100\n",
      "3/3 [==============================] - 0s 8ms/step - loss: 4.6915e-04 - mae: 0.0196 - mse: 4.6915e-04\n",
      "Epoch 64/100\n",
      "3/3 [==============================] - 0s 0s/step - loss: 0.0012 - mae: 0.0312 - mse: 0.0012\n",
      "Epoch 65/100\n",
      "3/3 [==============================] - 0s 0s/step - loss: 4.0686e-05 - mae: 0.0043 - mse: 4.0686e-05\n",
      "Epoch 66/100\n",
      "3/3 [==============================] - 0s 2ms/step - loss: 6.3784e-05 - mae: 0.0062 - mse: 6.3784e-05\n",
      "Epoch 67/100\n",
      "3/3 [==============================] - 0s 7ms/step - loss: 1.5851e-04 - mae: 0.0112 - mse: 1.5851e-04\n",
      "Epoch 68/100\n",
      "3/3 [==============================] - 0s 0s/step - loss: 2.6349e-04 - mae: 0.0150 - mse: 2.6349e-04\n",
      "Epoch 69/100\n",
      "3/3 [==============================] - 0s 3ms/step - loss: 5.0199e-04 - mae: 0.0213 - mse: 5.0199e-04\n",
      "Epoch 70/100\n",
      "3/3 [==============================] - 0s 3ms/step - loss: 3.5790e-05 - mae: 0.0042 - mse: 3.5790e-05\n",
      "Epoch 71/100\n",
      "3/3 [==============================] - 0s 2ms/step - loss: 9.1747e-05 - mae: 0.0074 - mse: 9.1747e-05\n",
      "Epoch 72/100\n",
      "3/3 [==============================] - 0s 0s/step - loss: 0.0011 - mae: 0.0317 - mse: 0.0011\n",
      "Epoch 73/100\n"
     ]
    },
    {
     "name": "stdout",
     "output_type": "stream",
     "text": [
      "3/3 [==============================] - 0s 0s/step - loss: 4.6089e-04 - mae: 0.0194 - mse: 4.6089e-04\n",
      "Epoch 74/100\n",
      "3/3 [==============================] - 0s 4ms/step - loss: 5.6394e-04 - mae: 0.0213 - mse: 5.6394e-04\n",
      "Epoch 75/100\n",
      "3/3 [==============================] - 0s 2ms/step - loss: 2.6035e-05 - mae: 0.0037 - mse: 2.6035e-05\n",
      "Epoch 76/100\n",
      "3/3 [==============================] - 0s 4ms/step - loss: 2.7693e-05 - mae: 0.0039 - mse: 2.7693e-05\n",
      "Epoch 77/100\n",
      "3/3 [==============================] - 0s 0s/step - loss: 2.6164e-04 - mae: 0.0147 - mse: 2.6164e-04\n",
      "Epoch 78/100\n",
      "3/3 [==============================] - 0s 0s/step - loss: 4.3485e-04 - mae: 0.0192 - mse: 4.3485e-04\n",
      "Epoch 79/100\n",
      "3/3 [==============================] - 0s 2ms/step - loss: 5.2487e-04 - mae: 0.0197 - mse: 5.2487e-04\n",
      "Epoch 80/100\n",
      "3/3 [==============================] - 0s 7ms/step - loss: 1.0012e-04 - mae: 0.0089 - mse: 1.0012e-04\n",
      "Epoch 81/100\n",
      "3/3 [==============================] - 0s 3ms/step - loss: 2.1874e-04 - mae: 0.0136 - mse: 2.1874e-04\n",
      "Epoch 82/100\n",
      "3/3 [==============================] - 0s 3ms/step - loss: 7.7089e-04 - mae: 0.0261 - mse: 7.7089e-04\n",
      "Epoch 83/100\n",
      "3/3 [==============================] - 0s 0s/step - loss: 2.8746e-04 - mae: 0.0158 - mse: 2.8746e-04\n",
      "Epoch 84/100\n",
      "3/3 [==============================] - 0s 0s/step - loss: 3.3182e-04 - mae: 0.0169 - mse: 3.3182e-04\n",
      "Epoch 85/100\n",
      "3/3 [==============================] - 0s 0s/step - loss: 2.5511e-04 - mae: 0.0150 - mse: 2.5511e-04\n",
      "Epoch 86/100\n",
      "3/3 [==============================] - 0s 2ms/step - loss: 4.2082e-05 - mae: 0.0051 - mse: 4.2082e-05\n",
      "Epoch 87/100\n",
      "3/3 [==============================] - 0s 2ms/step - loss: 8.6601e-05 - mae: 0.0084 - mse: 8.6601e-05\n",
      "Epoch 88/100\n",
      "3/3 [==============================] - 0s 2ms/step - loss: 9.7478e-04 - mae: 0.0291 - mse: 9.7478e-04\n",
      "Epoch 89/100\n",
      "3/3 [==============================] - 0s 0s/step - loss: 5.1590e-04 - mae: 0.0201 - mse: 5.1590e-04\n",
      "Epoch 90/100\n",
      "3/3 [==============================] - 0s 2ms/step - loss: 2.3172e-04 - mae: 0.0134 - mse: 2.3172e-04\n",
      "Epoch 91/100\n",
      "3/3 [==============================] - 0s 3ms/step - loss: 3.2031e-04 - mae: 0.0166 - mse: 3.2031e-04\n",
      "Epoch 92/100\n",
      "3/3 [==============================] - 0s 2ms/step - loss: 4.7269e-05 - mae: 0.0061 - mse: 4.7269e-05\n",
      "Epoch 93/100\n",
      "3/3 [==============================] - 0s 6ms/step - loss: 9.8205e-05 - mae: 0.0087 - mse: 9.8205e-05\n",
      "Epoch 94/100\n",
      "3/3 [==============================] - 0s 0s/step - loss: 4.9934e-04 - mae: 0.0210 - mse: 4.9934e-04\n",
      "Epoch 95/100\n",
      "3/3 [==============================] - 0s 3ms/step - loss: 9.4676e-04 - mae: 0.0288 - mse: 9.4676e-04\n",
      "Epoch 96/100\n",
      "3/3 [==============================] - 0s 2ms/step - loss: 5.6713e-05 - mae: 0.0060 - mse: 5.6713e-05\n",
      "Epoch 97/100\n",
      "3/3 [==============================] - 0s 3ms/step - loss: 4.3247e-05 - mae: 0.0058 - mse: 4.3247e-05\n",
      "Epoch 98/100\n",
      "3/3 [==============================] - 0s 4ms/step - loss: 1.3173e-05 - mae: 0.0026 - mse: 1.3173e-05\n",
      "Epoch 99/100\n",
      "3/3 [==============================] - 0s 0s/step - loss: 1.2591e-05 - mae: 0.0024 - mse: 1.2591e-05\n",
      "Epoch 100/100\n",
      "3/3 [==============================] - 0s 2ms/step - loss: 1.1453e-05 - mae: 0.0021 - mse: 1.1453e-05\n"
     ]
    }
   ],
   "source": [
    "EPOCHS = 100\n",
    "\n",
    "history = model.fit(X_train, y_train,  epochs=EPOCHS, callbacks=[PrintDot()])"
   ]
  },
  {
   "cell_type": "code",
   "execution_count": 13,
   "id": "3186acbf",
   "metadata": {},
   "outputs": [
    {
     "name": "stdout",
     "output_type": "stream",
     "text": [
      "(33, 2)\n",
      "(67,)\n"
     ]
    }
   ],
   "source": [
    "print(X_test.shape)\n",
    "print(y_train.shape)"
   ]
  },
  {
   "cell_type": "code",
   "execution_count": 14,
   "id": "72c5d62c",
   "metadata": {},
   "outputs": [
    {
     "data": {
      "text/html": [
       "<div>\n",
       "<style scoped>\n",
       "    .dataframe tbody tr th:only-of-type {\n",
       "        vertical-align: middle;\n",
       "    }\n",
       "\n",
       "    .dataframe tbody tr th {\n",
       "        vertical-align: top;\n",
       "    }\n",
       "\n",
       "    .dataframe thead th {\n",
       "        text-align: right;\n",
       "    }\n",
       "</style>\n",
       "<table border=\"1\" class=\"dataframe\">\n",
       "  <thead>\n",
       "    <tr style=\"text-align: right;\">\n",
       "      <th></th>\n",
       "      <th>loss</th>\n",
       "      <th>mae</th>\n",
       "      <th>mse</th>\n",
       "      <th>epoch</th>\n",
       "    </tr>\n",
       "  </thead>\n",
       "  <tbody>\n",
       "    <tr>\n",
       "      <th>95</th>\n",
       "      <td>0.000057</td>\n",
       "      <td>0.005980</td>\n",
       "      <td>0.000057</td>\n",
       "      <td>95</td>\n",
       "    </tr>\n",
       "    <tr>\n",
       "      <th>96</th>\n",
       "      <td>0.000043</td>\n",
       "      <td>0.005751</td>\n",
       "      <td>0.000043</td>\n",
       "      <td>96</td>\n",
       "    </tr>\n",
       "    <tr>\n",
       "      <th>97</th>\n",
       "      <td>0.000013</td>\n",
       "      <td>0.002621</td>\n",
       "      <td>0.000013</td>\n",
       "      <td>97</td>\n",
       "    </tr>\n",
       "    <tr>\n",
       "      <th>98</th>\n",
       "      <td>0.000013</td>\n",
       "      <td>0.002368</td>\n",
       "      <td>0.000013</td>\n",
       "      <td>98</td>\n",
       "    </tr>\n",
       "    <tr>\n",
       "      <th>99</th>\n",
       "      <td>0.000011</td>\n",
       "      <td>0.002082</td>\n",
       "      <td>0.000011</td>\n",
       "      <td>99</td>\n",
       "    </tr>\n",
       "  </tbody>\n",
       "</table>\n",
       "</div>"
      ],
      "text/plain": [
       "        loss       mae       mse  epoch\n",
       "95  0.000057  0.005980  0.000057     95\n",
       "96  0.000043  0.005751  0.000043     96\n",
       "97  0.000013  0.002621  0.000013     97\n",
       "98  0.000013  0.002368  0.000013     98\n",
       "99  0.000011  0.002082  0.000011     99"
      ]
     },
     "execution_count": 14,
     "metadata": {},
     "output_type": "execute_result"
    }
   ],
   "source": [
    "hist = pd.DataFrame(history.history)\n",
    "hist['epoch'] = history.epoch\n",
    "hist.tail()"
   ]
  },
  {
   "cell_type": "code",
   "execution_count": 15,
   "id": "70fa342e",
   "metadata": {},
   "outputs": [
    {
     "name": "stdout",
     "output_type": "stream",
     "text": [
      "2/2 [==============================] - 0s 0s/step\n"
     ]
    },
    {
     "data": {
      "image/png": "[encoded data removed]",
      "text/plain": [
       "<Figure size 432x288 with 1 Axes>"
      ]
     },
     "metadata": {
      "needs_background": "light"
     },
     "output_type": "display_data"
    }
   ],
   "source": [
    "\n",
    "test_predictions = model.predict(X_test).flatten()\n",
    "plt.scatter(y_test, test_predictions)\n",
    "plt.xlabel('True Values [MPG]')\n",
    "plt.ylabel('Predictions [MPG]')\n",
    "plt.axis('equal')\n",
    "plt.axis('square')\n",
    "plt.xlim([0,plt.xlim()[1]])\n",
    "plt.ylim([0,plt.ylim()[1]])\n",
    "_ = plt.plot([-100, 100], [-100, 100])"
   ]
  },
  {
   "cell_type": "code",
   "execution_count": null,
   "id": "501d30ac",
   "metadata": {},
   "outputs": [],
   "source": []
  }
 ],
 "metadata": {
  "kernelspec": {
   "display_name": "Python 3 (ipykernel)",
   "language": "python",
   "name": "python3"
  },
  "language_info": {
   "codemirror_mode": {
    "name": "ipython",
    "version": 3
   },
   "file_extension": ".py",
   "mimetype": "text/x-python",
   "name": "python",
   "nbconvert_exporter": "python",
   "pygments_lexer": "ipython3",
   "version": "3.9.12"
  }
 },
 "nbformat": 4,
 "nbformat_minor": 5
}
